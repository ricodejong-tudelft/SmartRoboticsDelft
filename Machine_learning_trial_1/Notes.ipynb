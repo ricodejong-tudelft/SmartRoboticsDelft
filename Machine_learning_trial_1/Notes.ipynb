{
 "cells": [
  {
   "cell_type": "raw",
   "id": "aaa717bc-21ef-4141-82b8-28192f0bb2bc",
   "metadata": {},
   "source": [
    "Current status:\n",
    "\n",
    "Tried lots of feature engineerng and making a model. The rmse of ridge with 0.94 is quite good. But i feel it can be better.\n",
    "\n",
    "Maybe i have used too many correlated features, not sure.\n",
    "\n",
    "I also want to try to inject the full raw timeseries into the machinelearning model. I feel like alot of usefull temporal behaviour is lost with the current approach."
   ]
  },
  {
   "cell_type": "code",
   "execution_count": null,
   "id": "4da8dfc0-6d05-4d23-8408-01ab7051f347",
   "metadata": {},
   "outputs": [],
   "source": []
  },
  {
   "cell_type": "code",
   "execution_count": null,
   "id": "90b4748a-6548-41c2-b983-a7c5779adcb0",
   "metadata": {},
   "outputs": [],
   "source": []
  }
 ],
 "metadata": {
  "kernelspec": {
   "display_name": "Python 3 (ipykernel)",
   "language": "python",
   "name": "python3"
  },
  "language_info": {
   "codemirror_mode": {
    "name": "ipython",
    "version": 3
   },
   "file_extension": ".py",
   "mimetype": "text/x-python",
   "name": "python",
   "nbconvert_exporter": "python",
   "pygments_lexer": "ipython3",
   "version": "3.10.18"
  }
 },
 "nbformat": 4,
 "nbformat_minor": 5
}

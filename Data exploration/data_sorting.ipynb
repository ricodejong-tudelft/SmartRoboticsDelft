{
 "cells": [
  {
   "cell_type": "markdown",
   "id": "74496309",
   "metadata": {},
   "source": [
    "This notebook is used for sorting our collected data on site at smart robotics in Best"
   ]
  },
  {
   "cell_type": "code",
   "execution_count": 42,
   "id": "2af51d15",
   "metadata": {},
   "outputs": [],
   "source": [
    "import json\n",
    "import pandas as pd\n",
    "import numpy as np\n",
    "import matplotlib.pyplot as plt\n",
    "import os\n",
    "from datetime import datetime, timezone, timedelta\n"
   ]
  },
  {
   "cell_type": "code",
   "execution_count": 51,
   "id": "cbcdd6be",
   "metadata": {},
   "outputs": [],
   "source": [
    "def load_dataset(filename):\n",
    "    data = json.load(open(filename, encoding=\"utf-8\"))\n",
    "    return data\n",
    "\n",
    "datadir = 'C:\\\\Users\\\\ricod\\Desktop\\\\batch3_filtered\\\\best_system_collection_7_10_2025_filter' # change folder on your own device\n",
    "filelist = os.listdir(datadir)\n",
    "CEST = timezone(timedelta(hours=2))\n",
    "df = pd.DataFrame()\n",
    "\n",
    "for num in range(len(filelist)): # loop over all measurements m in directory\n",
    "    measurement = load_dataset(datadir + '\\\\' + filelist[num])\n",
    "    df.loc[num, 'File Name'] = filelist[num]\n",
    "    df.loc[num, 'Start Time'] = measurement['start_time']\n",
    "    df.loc[num, 'Start Time'] = pd.to_datetime(df.loc[num, 'Start Time'], unit='s') + pd.Timedelta(hours=2) # convert unix to timeseris and account for timezones\n",
    "    df.loc[num, 'Expected Weight'] = measurement['expected_weight']\n",
    "    df.loc[num, 'Filtered Weight'] = measurement['filtered_weight']\n",
    "\n",
    "df.to_csv(datadir + '\\\\' + 'output.csv')"
   ]
  }
 ],
 "metadata": {
  "kernelspec": {
   "display_name": "TIL6022-25",
   "language": "python",
   "name": "python3"
  },
  "language_info": {
   "codemirror_mode": {
    "name": "ipython",
    "version": 3
   },
   "file_extension": ".py",
   "mimetype": "text/x-python",
   "name": "python",
   "nbconvert_exporter": "python",
   "pygments_lexer": "ipython3",
   "version": "3.8.20"
  }
 },
 "nbformat": 4,
 "nbformat_minor": 5
}

{
 "cells": [
  {
   "cell_type": "code",
   "execution_count": 1,
   "id": "8e64819c",
   "metadata": {},
   "outputs": [],
   "source": [
    "import json\n",
    "import pandas as pd\n",
    "import numpy as np\n",
    "import matplotlib.pyplot as plt\n",
    "from pathlib import Path\n",
    "from itertools import zip_longest"
   ]
  },
  {
   "cell_type": "code",
   "execution_count": 3,
   "id": "1ec7a3a3",
   "metadata": {},
   "outputs": [
    {
     "ename": "FileNotFoundError",
     "evalue": "[Errno 2] No such file or directory: '2025-06-15_11-39-04-387039_measure_weight_FORCE_MEASUREMENT_CASE.json'",
     "output_type": "error",
     "traceback": [
      "\u001b[31m---------------------------------------------------------------------------\u001b[39m",
      "\u001b[31mFileNotFoundError\u001b[39m                         Traceback (most recent call last)",
      "\u001b[36mCell\u001b[39m\u001b[36m \u001b[39m\u001b[32mIn[3]\u001b[39m\u001b[32m, line 1\u001b[39m\n\u001b[32m----> \u001b[39m\u001b[32m1\u001b[39m data = json.load(\u001b[38;5;28;43mopen\u001b[39;49m\u001b[43m(\u001b[49m\u001b[33;43m\"\u001b[39;49m\u001b[33;43m2025-06-15_11-39-04-387039_measure_weight_FORCE_MEASUREMENT_CASE.json\u001b[39;49m\u001b[33;43m\"\u001b[39;49m\u001b[43m,\u001b[49m\u001b[43m \u001b[49m\u001b[43mencoding\u001b[49m\u001b[43m=\u001b[49m\u001b[33;43m\"\u001b[39;49m\u001b[33;43mutf-8\u001b[39;49m\u001b[33;43m\"\u001b[39;49m\u001b[43m)\u001b[49m)\n\u001b[32m      3\u001b[39m df = pd.json_normalize(\n\u001b[32m      4\u001b[39m     data,\n\u001b[32m      5\u001b[39m     record_path=\u001b[33m\"\u001b[39m\u001b[33mraw_measurements\u001b[39m\u001b[33m\"\u001b[39m,\n\u001b[32m      6\u001b[39m     meta=[\u001b[33m\"\u001b[39m\u001b[33mversion\u001b[39m\u001b[33m\"\u001b[39m,\u001b[33m\"\u001b[39m\u001b[33mtype\u001b[39m\u001b[33m\"\u001b[39m,\u001b[33m\"\u001b[39m\u001b[33mstart_time\u001b[39m\u001b[33m\"\u001b[39m,\u001b[33m\"\u001b[39m\u001b[33mend_time\u001b[39m\u001b[33m\"\u001b[39m,\u001b[33m\"\u001b[39m\u001b[33msampling_rate\u001b[39m\u001b[33m\"\u001b[39m,\u001b[33m\"\u001b[39m\u001b[33mweight_filter\u001b[39m\u001b[33m\"\u001b[39m,\u001b[33m\"\u001b[39m\u001b[33mzero_offset\u001b[39m\u001b[33m\"\u001b[39m,\u001b[33m\"\u001b[39m\u001b[33mexpected_weight\u001b[39m\u001b[33m\"\u001b[39m,\u001b[33m\"\u001b[39m\u001b[33mrobot_type\u001b[39m\u001b[33m\"\u001b[39m,\u001b[33m\"\u001b[39m\u001b[33meoat_params\u001b[39m\u001b[33m\"\u001b[39m],\n\u001b[32m      7\u001b[39m     errors=\u001b[33m\"\u001b[39m\u001b[33mignore\u001b[39m\u001b[33m\"\u001b[39m\n\u001b[32m      8\u001b[39m )\n\u001b[32m     10\u001b[39m \u001b[38;5;28mprint\u001b[39m(df.shape)\n",
      "\u001b[36mFile \u001b[39m\u001b[32m~\\AppData\\Local\\Packages\\PythonSoftwareFoundation.Python.3.12_qbz5n2kfra8p0\\LocalCache\\local-packages\\Python312\\site-packages\\IPython\\core\\interactiveshell.py:343\u001b[39m, in \u001b[36m_modified_open\u001b[39m\u001b[34m(file, *args, **kwargs)\u001b[39m\n\u001b[32m    336\u001b[39m \u001b[38;5;28;01mif\u001b[39;00m file \u001b[38;5;129;01min\u001b[39;00m {\u001b[32m0\u001b[39m, \u001b[32m1\u001b[39m, \u001b[32m2\u001b[39m}:\n\u001b[32m    337\u001b[39m     \u001b[38;5;28;01mraise\u001b[39;00m \u001b[38;5;167;01mValueError\u001b[39;00m(\n\u001b[32m    338\u001b[39m         \u001b[33mf\u001b[39m\u001b[33m\"\u001b[39m\u001b[33mIPython won\u001b[39m\u001b[33m'\u001b[39m\u001b[33mt let you open fd=\u001b[39m\u001b[38;5;132;01m{\u001b[39;00mfile\u001b[38;5;132;01m}\u001b[39;00m\u001b[33m by default \u001b[39m\u001b[33m\"\u001b[39m\n\u001b[32m    339\u001b[39m         \u001b[33m\"\u001b[39m\u001b[33mas it is likely to crash IPython. If you know what you are doing, \u001b[39m\u001b[33m\"\u001b[39m\n\u001b[32m    340\u001b[39m         \u001b[33m\"\u001b[39m\u001b[33myou can use builtins\u001b[39m\u001b[33m'\u001b[39m\u001b[33m open.\u001b[39m\u001b[33m\"\u001b[39m\n\u001b[32m    341\u001b[39m     )\n\u001b[32m--> \u001b[39m\u001b[32m343\u001b[39m \u001b[38;5;28;01mreturn\u001b[39;00m \u001b[43mio_open\u001b[49m\u001b[43m(\u001b[49m\u001b[43mfile\u001b[49m\u001b[43m,\u001b[49m\u001b[43m \u001b[49m\u001b[43m*\u001b[49m\u001b[43margs\u001b[49m\u001b[43m,\u001b[49m\u001b[43m \u001b[49m\u001b[43m*\u001b[49m\u001b[43m*\u001b[49m\u001b[43mkwargs\u001b[49m\u001b[43m)\u001b[49m\n",
      "\u001b[31mFileNotFoundError\u001b[39m: [Errno 2] No such file or directory: '2025-06-15_11-39-04-387039_measure_weight_FORCE_MEASUREMENT_CASE.json'"
     ]
    }
   ],
   "source": [
    "data = json.load(open(\"2025-06-15_11-39-04-387039_measure_weight_FORCE_MEASUREMENT_CASE.json\", encoding=\"utf-8\"))\n",
    "\n",
    "df = pd.json_normalize(\n",
    "    data,\n",
    "    record_path=\"raw_measurements\",\n",
    "    meta=[\"version\",\"type\",\"start_time\",\"end_time\",\"sampling_rate\",\"weight_filter\",\"zero_offset\",\"expected_weight\",\"robot_type\",\"eoat_params\"],\n",
    "    errors=\"ignore\"\n",
    ")\n",
    "\n",
    "print(df.shape)\n",
    "print(df.keys())\n",
    "print(df.head())"
   ]
  },
  {
   "cell_type": "code",
   "execution_count": 4,
   "id": "52b65ab8",
   "metadata": {},
   "outputs": [
    {
     "ename": "NameError",
     "evalue": "name 'df' is not defined",
     "output_type": "error",
     "traceback": [
      "\u001b[31m---------------------------------------------------------------------------\u001b[39m",
      "\u001b[31mNameError\u001b[39m                                 Traceback (most recent call last)",
      "\u001b[36mCell\u001b[39m\u001b[36m \u001b[39m\u001b[32mIn[4]\u001b[39m\u001b[32m, line 1\u001b[39m\n\u001b[32m----> \u001b[39m\u001b[32m1\u001b[39m df[[\u001b[33m\"\u001b[39m\u001b[33mMx\u001b[39m\u001b[33m\"\u001b[39m,\u001b[33m\"\u001b[39m\u001b[33mMy\u001b[39m\u001b[33m\"\u001b[39m,\u001b[33m\"\u001b[39m\u001b[33mFz\u001b[39m\u001b[33m\"\u001b[39m]] = pd.DataFrame(\u001b[43mdf\u001b[49m.pop(\u001b[33m\"\u001b[39m\u001b[33mforce_vector\u001b[39m\u001b[33m\"\u001b[39m).tolist(), index=df.index)\n\u001b[32m      3\u001b[39m flange = pd.DataFrame(df.pop(\u001b[33m\"\u001b[39m\u001b[33mrobot_tcp.flange\u001b[39m\u001b[33m\"\u001b[39m).tolist(), index=df.index)\n\u001b[32m      4\u001b[39m df[[\u001b[33m\"\u001b[39m\u001b[33mflange_tx\u001b[39m\u001b[33m\"\u001b[39m,\u001b[33m\"\u001b[39m\u001b[33mflange_ty\u001b[39m\u001b[33m\"\u001b[39m,\u001b[33m\"\u001b[39m\u001b[33mflange_tz\u001b[39m\u001b[33m\"\u001b[39m]] = pd.DataFrame(flange[\u001b[32m0\u001b[39m].tolist(), index=df.index)\n",
      "\u001b[31mNameError\u001b[39m: name 'df' is not defined"
     ]
    }
   ],
   "source": [
    "df[[\"Mx\",\"My\",\"Fz\"]] = pd.DataFrame(df.pop(\"force_vector\").tolist(), index=df.index)\n",
    "\n",
    "flange = pd.DataFrame(df.pop(\"robot_tcp.flange\").tolist(), index=df.index)\n",
    "df[[\"flange_tx\",\"flange_ty\",\"flange_tz\"]] = pd.DataFrame(flange[0].tolist(), index=df.index)\n",
    "df[[\"flange_qw\",\"flange_qx\",\"flange_qy\",\"flange_qz\"]] = pd.DataFrame(flange[1].tolist(), index=df.index)\n",
    "\n",
    "tcp_off = pd.DataFrame(df.pop(\"robot_tcp.tcp_offset\").tolist(), index=df.index)\n",
    "df[[\"tcp_tx\",\"tcp_ty\",\"tcp_tz\"]] = pd.DataFrame(tcp_off[0].tolist(), index=df.index)\n",
    "df[[\"tcp_qw\",\"tcp_qx\",\"tcp_qy\",\"tcp_qz\"]] = pd.DataFrame(tcp_off[1].tolist(), index=df.index)\n",
    "\n",
    "df[[\"tcp_vx\",\"tcp_vy\",\"tcp_vz\"]] = pd.DataFrame(df.pop(\"robot_tcp.velocity_linear\").tolist(), index=df.index)\n",
    "\n",
    "df[[\"tcp_wx\",\"tcp_wy\",\"tcp_wz\"]] = pd.DataFrame(df.pop(\"robot_tcp.velocity_angular\").tolist(), index=df.index)\n",
    "\n",
    "df[[\"joint_base\",\"joint_shoulder\",\"joint_elbow\",\"joint_wrist_1\",\"joint_wrist_2\",\"joint_wrist_3\"]] = (\n",
    "    pd.DataFrame(df.pop(\"robot_tcp.joint_angles\").tolist(), index=df.index)\n",
    ")\n",
    "\n",
    "\n",
    "t_num = pd.to_numeric(df[\"timestamp\"], errors=\"coerce\")\n",
    "t_rel_ms_num = (t_num - t_num.iloc[0]) * 1000\n",
    "t_dt = pd.to_datetime(df[\"timestamp\"], errors=\"coerce\")\n",
    "t_rel_ms_dt = (t_dt - t_dt.iloc[0]) / pd.to_timedelta(1, \"ms\")\n",
    "time_ms = t_rel_ms_num.fillna(t_rel_ms_dt)\n",
    "\n",
    "\n",
    "rt_num = pd.to_numeric(df[\"robot_tcp.timestamp\"], errors=\"coerce\")\n",
    "rt_rel_ms = (rt_num - rt_num.iloc[0]) * 1000"
   ]
  },
  {
   "cell_type": "code",
   "execution_count": null,
   "id": "47423657",
   "metadata": {},
   "outputs": [],
   "source": []
  }
 ],
 "metadata": {
  "kernelspec": {
   "display_name": "Python 3",
   "language": "python",
   "name": "python3"
  },
  "language_info": {
   "codemirror_mode": {
    "name": "ipython",
    "version": 3
   },
   "file_extension": ".py",
   "mimetype": "text/x-python",
   "name": "python",
   "nbconvert_exporter": "python",
   "pygments_lexer": "ipython3",
   "version": "3.12.10"
  }
 },
 "nbformat": 4,
 "nbformat_minor": 5
}

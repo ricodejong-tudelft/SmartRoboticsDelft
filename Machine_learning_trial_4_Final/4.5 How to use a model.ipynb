{
 "cells": [
  {
   "cell_type": "markdown",
   "id": "541db761-9247-474c-8561-ea441cf60f13",
   "metadata": {},
   "source": [
    "The models are not saved on the github repository, they where too big :(\n",
    "\n",
    "\n",
    "IMPORTANT TO NOTE <br>\n",
    "-Some of the notebooks cannot be run outright due to the missing data.<br>\n",
    "-In the different trials the \"cleaning\" shows how to go from raw measurements to the ordererd dataframe structure.<br>\n",
    "-if you want to run or create a model yourself the dataframe structure, names, and units of the values must be the same.<br><br>\n",
    "\n",
    "(If you know a little bit of programming the diverse \"data cleaning\" files will be not too difficult to understand) <br> <br>\n",
    "\n",
    "Here below a simpel guide how you could load a linear regression model. (NOT the neural network) <br>"
   ]
  },
  {
   "cell_type": "code",
   "execution_count": null,
   "id": "b2169549-b25a-42c3-9377-0da00f060bd5",
   "metadata": {},
   "outputs": [],
   "source": [
    "# 1. LOAD THE TRAINED MODEL AND SCALER\n",
    "model = joblib.load(\"best_model.pkl\")\n",
    "scaler = joblib.load(\"scaler.pkl\")\n",
    "\n",
    "# 2. EXAMPLE INPUT DATA\n",
    "# Replace this with real measurements.\n",
    "# IMPORTANT:\n",
    "#   - The column names MUST match the ones used for training.\n",
    "#   - The units / meaning must match too (same sensors, same engineering).\n",
    "\n",
    "example_data_dict = {\n",
    "    # \"sensor_A\": [123.4],\n",
    "    # \"sensor_B\": [0.982],\n",
    "    # \"temp_C\":   [37.1],\n",
    "    # \"pressure_bar\": [12.5],\n",
    "}\n",
    "\n",
    "# Put the dict into a pandas DataFrame\n",
    "X_new = pd.DataFrame(example_data_dict)\n",
    "\n",
    "# 3. SCALE THE INPUTS THE SAME WAY AS TRAINING\n",
    "# (this is critical, do NOT skip)\n",
    "X_new_scaled = scaler.transform(X_new)\n",
    "\n",
    "# 4. RUN THE MODEL TO GET A PREDICTION\n",
    "y_pred = model.predict(X_new_scaled)\n",
    "\n",
    "# 5. SHOW THE RESULT\n",
    "print(\"Predicted expected_weight:\", y_pred)\n",
    "\n",
    "# If there's only one row, you can also do:\n",
    "if len(y_pred) == 1:\n",
    "    print(\"Single prediction:\", float(y_pred[0]))"
   ]
  },
  {
   "cell_type": "code",
   "execution_count": null,
   "id": "6eafc00a-5a9a-48fb-b7c7-e3b4ea2f8b54",
   "metadata": {},
   "outputs": [],
   "source": []
  }
 ],
 "metadata": {
  "kernelspec": {
   "display_name": "Python 3 (ipykernel)",
   "language": "python",
   "name": "python3"
  },
  "language_info": {
   "codemirror_mode": {
    "name": "ipython",
    "version": 3
   },
   "file_extension": ".py",
   "mimetype": "text/x-python",
   "name": "python",
   "nbconvert_exporter": "python",
   "pygments_lexer": "ipython3",
   "version": "3.10.18"
  }
 },
 "nbformat": 4,
 "nbformat_minor": 5
}

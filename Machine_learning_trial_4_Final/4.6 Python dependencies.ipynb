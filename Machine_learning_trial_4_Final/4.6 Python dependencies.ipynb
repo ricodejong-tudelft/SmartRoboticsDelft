{
 "cells": [
  {
   "cell_type": "markdown",
   "id": "9030373a-ff28-42fa-aeef-393febaef259",
   "metadata": {},
   "source": [
    "## How to Load This Environment\n",
    "\n",
    "To recreate the same environment on another machine, follow these steps:\n",
    "\n",
    "1. Make sure you have **Anaconda** or **Miniconda** installed.\n",
    "\n",
    "2. Download this `environment.yml` file to your computer.\n",
    "\n",
    "3. Open a terminal (or Anaconda Prompt) in the same folder where `environment.yml` is located.\n",
    "\n",
    "4. Run the following command to create the environment:\n",
    "\n",
    "   ```bash\n",
    "   conda env create -f environment.yml\n",
    "5. Once the environment is created, activate it:\n",
    "\n",
    "   ```bash\n",
    "    conda activate my_env_name\n",
    "\n",
    "\n",
    "\n",
    "<br>\n",
    "Alternatively PIXI (as diogo told us he prefers to use) can also directly load .yml files i think."
   ]
  },
  {
   "cell_type": "code",
   "execution_count": null,
   "id": "00633f18-7bac-4c18-9330-be11d3374fa2",
   "metadata": {},
   "outputs": [],
   "source": []
  }
 ],
 "metadata": {
  "kernelspec": {
   "display_name": "Python 3 (ipykernel)",
   "language": "python",
   "name": "python3"
  },
  "language_info": {
   "codemirror_mode": {
    "name": "ipython",
    "version": 3
   },
   "file_extension": ".py",
   "mimetype": "text/x-python",
   "name": "python",
   "nbconvert_exporter": "python",
   "pygments_lexer": "ipython3",
   "version": "3.10.18"
  }
 },
 "nbformat": 4,
 "nbformat_minor": 5
}
